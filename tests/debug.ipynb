{
 "cells": [
  {
   "cell_type": "markdown",
   "id": "c7b6849f",
   "metadata": {},
   "source": [
    "# Test Notebook for End-to-End ATP\n",
    "\n",
    "This notebook is an essential component of the end-to-end Acceptance Test Procedure (ATP). It is designed to simulate the running of a robotic system and observe the generated logs, providing a thorough qualification of the system.\n",
    "\n",
    "## Objective\n",
    "\n",
    "The main objective of this notebook is to facilitate a manual test that closely mimics the actual operations of the robotic system. This helps ensure that the system's graphical user interface (GUI) performs seamlessly when processing real-time log data.\n",
    "\n",
    "## Test Details\n",
    "\n",
    "- **Type**: Manual End-to-End Test\n",
    "- **Scope**: ATP for robotic system qualification\n",
    "- **Simulation**: The notebook replicates the robot's operation by copying log entries line by line.\n",
    "- **Time Delay**: A delay between log lines emulates real-time logging.\n",
    "\n",
    "## Purpose\n",
    "\n",
    "By simulating the log generation process, this test aims to:\n",
    "\n",
    "- Confirm the GUI's responsiveness and accuracy in displaying log data.\n",
    "- Detect any potential issues with the GUI that may arise during an actual robotic run.\n",
    "- Ensure that log output is correctly interpreted and displayed by the system.\n",
    "\n",
    "## Why Manual Testing?\n",
    "\n",
    "While automation has its benefits, manual testing offers unique advantages for this qualification process:\n",
    "\n",
    "- **Human Insight**: Manual testing allows testers to observe and interpret subtle GUI behaviors that automated tests might overlook.\n",
    "- **Flexibility**: It provides the opportunity to adapt quickly to unexpected results and explore new testing paths as needed.\n",
    "- **Comprehensive Validation**: Manual testing ensures that the GUI not only functions correctly but also delivers an intuitive and user-friendly experience.\n",
    "\n",
    "## Instructions\n",
    "\n",
    "1. Execute each cell in this notebook sequentially.\n",
    "2. Observe the GUI for any discrepancies or issues.\n",
    "3. Note any unexpected behavior or errors for further analysis.\n",
    "\n",
    "This manual test is a critical step in validating the system's readiness for deployment, ensuring it meets the necessary operational standards and performs reliably under real-world conditions.\n"
   ]
  },
  {
   "cell_type": "code",
   "execution_count": 1,
   "id": "afd6444f",
   "metadata": {},
   "outputs": [
    {
     "data": {
      "text/plain": [
       "True"
      ]
     },
     "execution_count": 1,
     "metadata": {},
     "output_type": "execute_result"
    }
   ],
   "source": [
    "import time\n",
    "from dotenv import load_dotenv\n",
    "import os\n",
    "\n",
    "# Load environment variables from .env file\n",
    "load_dotenv()"
   ]
  },
  {
   "cell_type": "code",
   "execution_count": 2,
   "id": "d42fd115",
   "metadata": {},
   "outputs": [],
   "source": [
    "base_path = os.getenv('ROBOT_BASE_PATH')\n",
    "input_fn = f\"{base_path}/robottrace/data/aliquotes_1_3_1.trc\"\n",
    "output_fn = f\"{base_path}/logs/aliquotes_1_3_1.trc1\"\n",
    "DELAY=0.1"
   ]
  },
  {
   "cell_type": "code",
   "execution_count": 3,
   "id": "95aeb128",
   "metadata": {},
   "outputs": [
    {
     "name": "stdout",
     "output_type": "stream",
     "text": [
      "2024-07-31 15:09:28> SYSTEM : Analyze method - start; Method file C:\\Program Files (x86)\\HAMILTON\\Methods\\elad\\aliquotes_1_3_slack.hsl\n",
      "\n",
      "2024-07-31 15:09:43> USER : Trace - complete; Kinesin Init\n",
      "\n"
     ]
    }
   ],
   "source": [
    "infile = open(input_fn, 'r').readlines()\n",
    "print(infile[0])\n",
    "print(infile[53])"
   ]
  },
  {
   "cell_type": "code",
   "execution_count": 4,
   "id": "0bce0808",
   "metadata": {},
   "outputs": [],
   "source": [
    "def copy_file_with_delay(input_file, output_file, delay=DELAY):\n",
    "    try:\n",
    "        with open(output_file, 'w') as outfile:\n",
    "            for line in infile:\n",
    "                outfile.write(line)\n",
    "                outfile.flush()  # Ensure the line is written immediately\n",
    "                time.sleep(delay)  # Wait for the specified delay\n",
    "        print(f\"File '{input_file}' has been copied to '{output_file}' with a {delay}-second delay between lines.\")\n",
    "    except FileNotFoundError:\n",
    "        print(f\"The file '{input_file}' was not found.\")\n",
    "    except Exception as e:\n",
    "        print(f\"An error occurred: {e}\")"
   ]
  },
  {
   "cell_type": "code",
   "execution_count": 5,
   "id": "53d2cfbf",
   "metadata": {},
   "outputs": [
    {
     "name": "stdout",
     "output_type": "stream",
     "text": [
      "File '/Users/centarixbiotec/robot/robottrace/data/aliquotes_1_3_1.trc' has been copied to '/Users/centarixbiotec/robot/logs/aliquotes_1_3_1.trc1' with a 0.1-second delay between lines.\n"
     ]
    }
   ],
   "source": [
    "copy_file_with_delay(input_fn, output_fn)"
   ]
  }
 ],
 "metadata": {
  "kernelspec": {
   "display_name": "Python 3 (ipykernel)",
   "language": "python",
   "name": "python3"
  },
  "language_info": {
   "codemirror_mode": {
    "name": "ipython",
    "version": 3
   },
   "file_extension": ".py",
   "mimetype": "text/x-python",
   "name": "python",
   "nbconvert_exporter": "python",
   "pygments_lexer": "ipython3",
   "version": "3.10.9"
  }
 },
 "nbformat": 4,
 "nbformat_minor": 5
}
